{
 "cells": [
  {
   "cell_type": "markdown",
   "metadata": {},
   "source": [
    "# SE Day 1: t-SNE\n",
    "\n",
    "This document is meant for testing purposes only.\n"
   ]
  },
  {
   "cell_type": "code",
   "execution_count": 1,
   "metadata": {},
   "outputs": [],
   "source": [
    "import numpy as np\n",
    "import matplotlib.pyplot as plt\n",
    "from tsne import pca\n",
    "from adjustbeta import Hbeta, adjustbeta"
   ]
  },
  {
   "cell_type": "code",
   "execution_count": 2,
   "metadata": {},
   "outputs": [],
   "source": [
    "import solution as sol"
   ]
  },
  {
   "cell_type": "code",
   "execution_count": 3,
   "metadata": {},
   "outputs": [],
   "source": [
    "X = np.loadtxt(\"mnist2500_X.txt\")\n",
    "X = pca(X, 50)\n",
    "labels = np.loadtxt(\"mnist2500_labels.txt\")"
   ]
  },
  {
   "cell_type": "code",
   "execution_count": 12,
   "metadata": {},
   "outputs": [],
   "source": [
    "tsne = sol.TSNE(X)\n",
    "h, beta = tsne.GetAdjustedBeta()\n",
    "#tsne.Calc_p_ij()"
   ]
  },
  {
   "cell_type": "code",
   "execution_count": 14,
   "metadata": {},
   "outputs": [
    {
     "data": {
      "text/plain": [
       "(2500, 1)"
      ]
     },
     "execution_count": 14,
     "metadata": {},
     "output_type": "execute_result"
    }
   ],
   "source": [
    "beta.shape\n",
    "#X.shape"
   ]
  },
  {
   "cell_type": "code",
   "execution_count": 6,
   "metadata": {},
   "outputs": [
    {
     "data": {
      "text/plain": [
       "array([[1.00000000e-12, 7.64044225e-08, 1.18550108e-07, ...,\n",
       "        6.03713315e-08, 1.00972265e-07, 1.75293562e-07],\n",
       "       [7.64044225e-08, 1.00000000e-12, 3.98609937e-08, ...,\n",
       "        1.99824301e-08, 4.16579001e-08, 1.36581156e-07],\n",
       "       [1.18550108e-07, 3.98609937e-08, 1.00000000e-12, ...,\n",
       "        2.83209414e-08, 1.16277957e-06, 4.11203224e-08],\n",
       "       ...,\n",
       "       [6.03713315e-08, 1.99824301e-08, 2.83209414e-08, ...,\n",
       "        1.00000000e-12, 2.46547311e-08, 4.53797118e-08],\n",
       "       [1.00972265e-07, 4.16579001e-08, 1.16277957e-06, ...,\n",
       "        2.46547311e-08, 1.00000000e-12, 3.89290250e-08],\n",
       "       [1.75293562e-07, 1.36581156e-07, 4.11203224e-08, ...,\n",
       "        4.53797118e-08, 3.89290250e-08, 1.00000000e-12]])"
      ]
     },
     "execution_count": 6,
     "metadata": {},
     "output_type": "execute_result"
    }
   ],
   "source": [
    "tsne.Calc_q_ij()"
   ]
  },
  {
   "cell_type": "code",
   "execution_count": 7,
   "metadata": {},
   "outputs": [
    {
     "ename": "AttributeError",
     "evalue": "'TSNE' object has no attribute 'Calc_delta_Y'",
     "output_type": "error",
     "traceback": [
      "\u001b[1;31m---------------------------------------------------------------------------\u001b[0m",
      "\u001b[1;31mAttributeError\u001b[0m                            Traceback (most recent call last)",
      "\u001b[1;32m~\\AppData\\Local\\Temp/ipykernel_17056/3758336296.py\u001b[0m in \u001b[0;36m<module>\u001b[1;34m\u001b[0m\n\u001b[1;32m----> 1\u001b[1;33m \u001b[0mtsne\u001b[0m\u001b[1;33m.\u001b[0m\u001b[0mCalc_delta_Y\u001b[0m\u001b[1;33m(\u001b[0m\u001b[1;33m)\u001b[0m\u001b[1;33m\u001b[0m\u001b[1;33m\u001b[0m\u001b[0m\n\u001b[0m",
      "\u001b[1;31mAttributeError\u001b[0m: 'TSNE' object has no attribute 'Calc_delta_Y'"
     ]
    }
   ],
   "source": [
    "tsne.Calc_delta_Y()"
   ]
  },
  {
   "cell_type": "code",
   "execution_count": null,
   "metadata": {},
   "outputs": [
    {
     "data": {
      "text/plain": [
       "(2500, 50)"
      ]
     },
     "execution_count": 8,
     "metadata": {},
     "output_type": "execute_result"
    }
   ],
   "source": [
    "X.shape"
   ]
  },
  {
   "cell_type": "code",
   "execution_count": null,
   "metadata": {},
   "outputs": [],
   "source": []
  },
  {
   "cell_type": "code",
   "execution_count": null,
   "metadata": {},
   "outputs": [],
   "source": []
  },
  {
   "cell_type": "code",
   "execution_count": null,
   "metadata": {},
   "outputs": [],
   "source": []
  }
 ],
 "metadata": {
  "interpreter": {
   "hash": "d46bb6a1d0e60fd95c8b450a1be9fd3d29a8bdd7f09a3a7e970ffea16d669fbd"
  },
  "kernelspec": {
   "display_name": "Python 3.9.7 ('base')",
   "language": "python",
   "name": "python3"
  },
  "language_info": {
   "codemirror_mode": {
    "name": "ipython",
    "version": 3
   },
   "file_extension": ".py",
   "mimetype": "text/x-python",
   "name": "python",
   "nbconvert_exporter": "python",
   "pygments_lexer": "ipython3",
   "version": "3.9.7"
  },
  "orig_nbformat": 4
 },
 "nbformat": 4,
 "nbformat_minor": 2
}
